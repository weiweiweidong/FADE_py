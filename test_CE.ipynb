{
 "cells": [
  {
   "cell_type": "markdown",
   "id": "506a7053",
   "metadata": {},
   "source": [
    "这是 CE 函数的测试文件"
   ]
  },
  {
   "cell_type": "code",
   "execution_count": null,
   "id": "3946aaa4",
   "metadata": {},
   "outputs": [],
   "source": [
    "import scipy.io\n",
    "import numpy as np\n",
    "from scipy import ndimage"
   ]
  },
  {
   "cell_type": "code",
   "execution_count": 118,
   "id": "33aaca22",
   "metadata": {},
   "outputs": [
    {
     "name": "stdout",
     "output_type": "stream",
     "text": [
      "- I: <class 'numpy.ndarray'>, shape: (768, 576, 3)\n",
      "- CE_gray: <class 'numpy.ndarray'>, shape: (768, 576)\n",
      "- CE_by: <class 'numpy.ndarray'>, shape: (768, 576)\n",
      "- CE_rg: <class 'numpy.ndarray'>, shape: (768, 576)\n",
      "- sigma: <class 'numpy.ndarray'>, shape: (1, 1)\n",
      "- semisaturation: <class 'numpy.ndarray'>, shape: (1, 1)\n",
      "- t1: <class 'numpy.ndarray'>, shape: (1, 1)\n",
      "- t2: <class 'numpy.ndarray'>, shape: (1, 1)\n",
      "- t3: <class 'numpy.ndarray'>, shape: (1, 1)\n",
      "- border_s: <class 'numpy.ndarray'>, shape: (1, 1)\n",
      "- break_off_sigma: <class 'numpy.ndarray'>, shape: (1, 1)\n",
      "- filtersize: <class 'numpy.ndarray'>, shape: (1, 1)\n",
      "- x: <class 'numpy.ndarray'>, shape: (1, 20)\n",
      "- Gauss: <class 'numpy.ndarray'>, shape: (1, 20)\n",
      "- Gx: <class 'numpy.ndarray'>, shape: (1, 20)\n",
      "- R: <class 'numpy.ndarray'>, shape: (768, 576)\n",
      "- G: <class 'numpy.ndarray'>, shape: (768, 576)\n",
      "- B: <class 'numpy.ndarray'>, shape: (768, 576)\n",
      "- gray: <class 'numpy.ndarray'>, shape: (768, 576)\n",
      "- by: <class 'numpy.ndarray'>, shape: (768, 576)\n",
      "- rg: <class 'numpy.ndarray'>, shape: (768, 576)\n",
      "- row: <class 'numpy.ndarray'>, shape: (1, 1)\n",
      "- col: <class 'numpy.ndarray'>, shape: (1, 1)\n",
      "- dim: <class 'numpy.ndarray'>, shape: (1, 1)\n",
      "- gray_temp1: <class 'numpy.ndarray'>, shape: (788, 596)\n",
      "- Cx_gray: <class 'numpy.ndarray'>, shape: (788, 596)\n",
      "- Cy_gray: <class 'numpy.ndarray'>, shape: (788, 596)\n",
      "- C_gray_temp2: <class 'numpy.ndarray'>, shape: (788, 596)\n",
      "- C_gray: <class 'numpy.ndarray'>, shape: (768, 576)\n",
      "- R_gray: <class 'numpy.ndarray'>, shape: (768, 576)\n",
      "- R_gray_temp1: <class 'numpy.ndarray'>, shape: (768, 576)\n",
      "- index1: <class 'numpy.ndarray'>, shape: (398182, 1)\n",
      "- by_temp1: <class 'numpy.ndarray'>, shape: (788, 596)\n",
      "- Cx_by: <class 'numpy.ndarray'>, shape: (788, 596)\n",
      "- Cy_by: <class 'numpy.ndarray'>, shape: (788, 596)\n",
      "- C_by_temp2: <class 'numpy.ndarray'>, shape: (788, 596)\n",
      "- C_by: <class 'numpy.ndarray'>, shape: (768, 576)\n",
      "- R_by: <class 'numpy.ndarray'>, shape: (768, 576)\n",
      "- R_by_temp1: <class 'numpy.ndarray'>, shape: (768, 576)\n",
      "- index2: <class 'numpy.ndarray'>, shape: (417899, 1)\n",
      "- rg_temp1: <class 'numpy.ndarray'>, shape: (788, 596)\n",
      "- Cx_rg: <class 'numpy.ndarray'>, shape: (788, 596)\n",
      "- Cy_rg: <class 'numpy.ndarray'>, shape: (788, 596)\n",
      "- C_rg_temp2: <class 'numpy.ndarray'>, shape: (788, 596)\n",
      "- C_rg: <class 'numpy.ndarray'>, shape: (768, 576)\n",
      "- R_rg: <class 'numpy.ndarray'>, shape: (768, 576)\n",
      "- R_rg_temp1: <class 'numpy.ndarray'>, shape: (768, 576)\n",
      "- index3: <class 'numpy.ndarray'>, shape: (440662, 1)\n"
     ]
    }
   ],
   "source": [
    "# 读取 mat 文件，打印一下变量名称\n",
    "\n",
    "mat_data = scipy.io.loadmat('data/CE_key_variables.mat')\n",
    "\n",
    "for key in mat_data.keys():\n",
    "    if not key.startswith('__'):  # 过滤掉MATLAB的元数据\n",
    "        print(f\"- {key}: {type(mat_data[key])}, shape: {mat_data[key].shape if hasattr(mat_data[key], 'shape') else 'N/A'}\")"
   ]
  },
  {
   "cell_type": "code",
   "execution_count": 119,
   "id": "292714a3",
   "metadata": {},
   "outputs": [
    {
     "name": "stdout",
     "output_type": "stream",
     "text": [
      "(768, 576, 3)\n"
     ]
    }
   ],
   "source": [
    "I = mat_data['I']\n",
    "\n",
    "print(I.shape)"
   ]
  },
  {
   "cell_type": "code",
   "execution_count": 120,
   "id": "3ffc887a",
   "metadata": {},
   "outputs": [],
   "source": [
    "def test(input_variable, variable_name, mat_file='data/CE_key_variables.mat'):\n",
    "    \"\"\"\n",
    "    改进版测试函数：\n",
    "    - 矩阵比较时显示具体数值\n",
    "    - 标量比较时忽略(1,1)形状差异，简化输出\n",
    "    \"\"\"\n",
    "    try:\n",
    "        # 读取.mat文件\n",
    "        mat_data = scipy.io.loadmat(mat_file)\n",
    "        \n",
    "        # 检查变量是否存在\n",
    "        if variable_name not in mat_data:\n",
    "            print(f\"错误：变量 '{variable_name}' 不存在\")\n",
    "            return False\n",
    "        \n",
    "        mat_variable = mat_data[variable_name]\n",
    "        \n",
    "        # 转换为numpy数组\n",
    "        input_array = np.array(input_variable)\n",
    "        mat_array = np.array(mat_variable)\n",
    "        \n",
    "        # 判断是否为标量比较（输入是标量且mat变量是1x1数组）\n",
    "        is_scalar_comparison = (input_array.shape == () and mat_array.shape == (1, 1)) or \\\n",
    "                              (input_array.shape == (1, 1) and mat_array.shape == ())\n",
    "        \n",
    "        if is_scalar_comparison:\n",
    "            # 标量比较：简化处理\n",
    "            print(f\"比较标量值: 输入={input_variable}, Mat={(mat_array.item() if mat_array.size == 1 else mat_array)}\")\n",
    "            \n",
    "            # 统一为标量进行比较\n",
    "            input_scalar = input_array.item() if input_array.size == 1 else input_array\n",
    "            mat_scalar = mat_array.item() if mat_array.size == 1 else mat_array\n",
    "            \n",
    "            are_equal = input_scalar == mat_scalar\n",
    "        else:\n",
    "            # 矩阵比较：显示详细信息\n",
    "            print(f\"输入变量形状: {input_array.shape}\")\n",
    "            print(f\"Mat变量形状: {mat_array.shape}\")\n",
    "            # print(f\"输入变量:\\n{input_array}\")\n",
    "            # print(f\"Mat变量:\\n{mat_array}\")\n",
    "            \n",
    "            # 检查形状是否相同\n",
    "            if input_array.shape != mat_array.shape:\n",
    "                print(f\"形状不同：{input_array.shape} vs {mat_array.shape}\")\n",
    "                return False\n",
    "            \n",
    "            # 比较数值\n",
    "            if np.issubdtype(input_array.dtype, np.floating) or np.issubdtype(mat_array.dtype, np.floating):\n",
    "                are_equal = np.allclose(input_array, mat_array, rtol=1e-10, atol=1e-12)\n",
    "            else:\n",
    "                are_equal = np.array_equal(input_array, mat_array)\n",
    "        \n",
    "        # 输出结果\n",
    "        if are_equal:\n",
    "            print(f\"✓ 变量 '{variable_name}' 数值相同\")\n",
    "            return True\n",
    "        else:\n",
    "            print(f\"✗ 变量 '{variable_name}' 数值不同\")\n",
    "            if not is_scalar_comparison:\n",
    "                # 只有矩阵比较时才显示详细差异\n",
    "                if input_array.size <= 20:  # 小矩阵显示差异\n",
    "                    diff = np.abs(input_array - mat_array)\n",
    "                    print(f\"差异矩阵:\\n{diff}\")\n",
    "                else:\n",
    "                    max_diff = np.max(np.abs(input_array - mat_array))\n",
    "                    print(f\"最大差异: {max_diff}\")\n",
    "            return False\n",
    "            \n",
    "    except Exception as e:\n",
    "        print(f\"出错: {e}\")\n",
    "        return False"
   ]
  },
  {
   "cell_type": "code",
   "execution_count": 121,
   "id": "935ae842",
   "metadata": {},
   "outputs": [
    {
     "name": "stdout",
     "output_type": "stream",
     "text": [
      "比较标量值: 输入=3.25, Mat=3.25\n",
      "✓ 变量 'sigma' 数值相同\n",
      "比较标量值: 输入=0.1, Mat=0.1\n",
      "✓ 变量 'semisaturation' 数值相同\n",
      "比较标量值: 输入=0.2352501583611274, Mat=0.2352501583611274\n",
      "✓ 变量 't1' 数值相同\n",
      "比较标量值: 输入=0.22871578982055193, Mat=0.22871578982055193\n",
      "✓ 变量 't2' 数值相同\n",
      "比较标量值: 输入=0.052766742871217985, Mat=0.052766742871217985\n",
      "✓ 变量 't3' 数值相同\n",
      "比较标量值: 输入=20, Mat=20\n",
      "✓ 变量 'border_s' 数值相同\n"
     ]
    },
    {
     "data": {
      "text/plain": [
       "True"
      ]
     },
     "execution_count": 121,
     "metadata": {},
     "output_type": "execute_result"
    }
   ],
   "source": [
    "# Basic parameters\n",
    "sigma               = 3.25;\n",
    "semisaturation      = 0.1; \n",
    "t1                  = 9.225496406318721e-004 *255; # 0.2353\n",
    "t2                  = 8.969246659629488e-004 *255; # 0.2287\n",
    "t3                  = 2.069284034165411e-004 *255; # 0.0528\n",
    "border_s            = 20;\n",
    "\n",
    "test(sigma , 'sigma')\n",
    "test(semisaturation , 'semisaturation')\n",
    "test(t1 , 't1')\n",
    "test(t2 , 't2')\n",
    "test(t3 , 't3')\n",
    "test(border_s , 'border_s')"
   ]
  },
  {
   "cell_type": "code",
   "execution_count": 122,
   "id": "0abdce1e",
   "metadata": {},
   "outputs": [
    {
     "name": "stdout",
     "output_type": "stream",
     "text": [
      "比较标量值: 输入=3, Mat=3\n",
      "✓ 变量 'break_off_sigma' 数值相同\n",
      "比较标量值: 输入=9.75, Mat=9.75\n",
      "✓ 变量 'filtersize' 数值相同\n",
      "输入变量形状: (1, 20)\n",
      "Mat变量形状: (1, 20)\n",
      "✓ 变量 'x' 数值相同\n",
      "输入变量形状: (1, 20)\n",
      "Mat变量形状: (1, 20)\n",
      "✓ 变量 'Gauss' 数值相同\n",
      "输入变量形状: (1, 20)\n",
      "Mat变量形状: (1, 20)\n",
      "✓ 变量 'Gx' 数值相同\n"
     ]
    },
    {
     "data": {
      "text/plain": [
       "True"
      ]
     },
     "execution_count": 122,
     "metadata": {},
     "output_type": "execute_result"
    }
   ],
   "source": [
    "# Gaussian & LoG & Retification, Normalization(?)\n",
    "\n",
    "break_off_sigma = 3\n",
    "filtersize = break_off_sigma * sigma\n",
    "\n",
    "\n",
    "x = np.arange(-filtersize, filtersize,1)  # MATLAB的-filtersize:1:filtersize\n",
    "x = x.reshape(1, -1)\n",
    "Gauss = (1 / (np.sqrt(2 * np.pi) * sigma)) * np.exp((x**2) / (-2 * sigma * sigma))\n",
    "Gauss = Gauss / np.sum(Gauss)\n",
    "Gx = (x**2 / sigma**4 - 1 / sigma**2) * Gauss  # LoG\n",
    "Gx = Gx - np.sum(Gx) / x.size  # size(x,2) 在MATLAB中等于 x.size 在Python中\n",
    "Gx = Gx / np.sum(0.5 * x * x * Gx)\n",
    "\n",
    "\n",
    "test(break_off_sigma , 'break_off_sigma')\n",
    "test(filtersize , 'filtersize')\n",
    "test(x , 'x')\n",
    "test(Gauss , 'Gauss')\n",
    "test(Gx , 'Gx')"
   ]
  },
  {
   "cell_type": "code",
   "execution_count": 123,
   "id": "24599ed2",
   "metadata": {},
   "outputs": [
    {
     "name": "stdout",
     "output_type": "stream",
     "text": [
      "输入变量形状: (768, 576, 3)\n",
      "Mat变量形状: (768, 576, 3)\n",
      "✓ 变量 'I' 数值相同\n",
      "输入变量形状: (768, 576)\n",
      "Mat变量形状: (768, 576)\n",
      "✓ 变量 'R' 数值相同\n",
      "输入变量形状: (768, 576)\n",
      "Mat变量形状: (768, 576)\n",
      "✓ 变量 'G' 数值相同\n",
      "输入变量形状: (768, 576)\n",
      "Mat变量形状: (768, 576)\n",
      "✓ 变量 'B' 数值相同\n",
      "输入变量形状: (768, 576)\n",
      "Mat变量形状: (768, 576)\n",
      "✓ 变量 'gray' 数值相同\n",
      "输入变量形状: (768, 576)\n",
      "Mat变量形状: (768, 576)\n",
      "✓ 变量 'by' 数值相同\n",
      "输入变量形状: (768, 576)\n",
      "Mat变量形状: (768, 576)\n",
      "✓ 变量 'rg' 数值相同\n"
     ]
    },
    {
     "data": {
      "text/plain": [
       "True"
      ]
     },
     "execution_count": 123,
     "metadata": {},
     "output_type": "execute_result"
    }
   ],
   "source": [
    "# Color conversion\n",
    "\n",
    "I = I.astype(np.float64)  # 等价于 MATLAB 的 double(I)\n",
    "R = I[:, :, 0]            # 第一个通道 (Red)\n",
    "G = I[:, :, 1]            # 第二个通道 (Green)  \n",
    "B = I[:, :, 2]            # 第三个通道 (Blue)\n",
    "gray = 0.299 * R + 0.587 * G + 0.114 * B\n",
    "by = 0.5 * R + 0.5 * G - B\n",
    "rg = R - G\n",
    "row, col, dim = I.shape   # 等价于 MATLAB 的 [row col dim] = size(I)\n",
    "CE_gray = np.zeros((row, col), dtype=np.float64)  # double(zeros(row, col))\n",
    "CE_by = np.zeros((row, col), dtype=np.float64)\n",
    "CE_rg = np.zeros((row, col), dtype=np.float64)\n",
    "\n",
    "test(I , 'I')\n",
    "test(R , 'R')\n",
    "test(G , 'G')\n",
    "test(B , 'B')\n",
    "test(gray , 'gray')\n",
    "test(by , 'by')\n",
    "test(rg , 'rg')"
   ]
  },
  {
   "cell_type": "markdown",
   "id": "ab335f61",
   "metadata": {},
   "source": [
    "下面用来测试 border_in 函数"
   ]
  },
  {
   "cell_type": "code",
   "execution_count": 124,
   "id": "a01a979d",
   "metadata": {},
   "outputs": [],
   "source": [
    "# 添加边界\n",
    "def border_in(I, ps):\n",
    "    \"\"\"\n",
    "    为输入图像添加边界\n",
    "    \n",
    "    参数:\n",
    "    I: 输入图像 (2D numpy数组)\n",
    "    ps: 补丁大小 (patch size)\n",
    "    \n",
    "    返回:\n",
    "    nI: 添加边界后的图像\n",
    "    \"\"\"\n",
    "    \n",
    "    # 计算上下边界的复制行数\n",
    "    if ps % 2 == 0:  # 偶数情况\n",
    "        uc = ps // 2      # upperside copy\n",
    "        dc = ps // 2 - 1  # downside copy\n",
    "    else:  # mod(ps,2)==1 奇数情况\n",
    "        uc = ps // 2      # floor(ps/2) 在Python中 // 就是向下取整\n",
    "        dc = uc\n",
    "        \n",
    "    # test(uc , 'uc' , 'data/border_in_gray.mat')\n",
    "    # test(dc , 'dc' , 'data/border_in_gray.mat')\n",
    "    \n",
    "    \n",
    "    \n",
    "    # 复制上边界和下边界\n",
    "    ucb = I[:uc, :]           # I(1:uc,:) - 上边界\n",
    "    dcb = I[-dc-1:, :]          # I(end-dc:end,:) - 下边界\n",
    "    Igtemp1 = np.vstack([ucb, I, dcb])  # [ucb;I;dcb] - 垂直拼接\n",
    "    # test(ucb , 'ucb' , 'data/border_in_gray.mat')\n",
    "    # test(dcb , 'dcb' , 'data/border_in_gray.mat')\n",
    "    # test(Igtemp1 , 'Igtemp1' , 'data/border_in_gray.mat')\n",
    "    \n",
    "    \n",
    "    # 复制左边界和右边界\n",
    "    lcb = Igtemp1[:, :uc]     # Igtemp1(:,1:uc) - 左边界\n",
    "    rcb = Igtemp1[:, -dc-1:]    # Igtemp1(:,end-dc:end) - 右边界\n",
    "    nI = np.hstack([lcb, Igtemp1, rcb])  # [lcb Igtemp1 rcb] - 水平拼接\n",
    "    \n",
    "    return nI\n",
    "\n",
    "\n",
    "# gray_temp1 = border_in(gray, border_s)   \n"
   ]
  },
  {
   "cell_type": "code",
   "execution_count": 125,
   "id": "a0c4d499",
   "metadata": {},
   "outputs": [],
   "source": [
    "def border_out(I, ps):\n",
    "    \"\"\"\n",
    "    移除图像边界\n",
    "    \n",
    "    参数:\n",
    "    I: 输入图像 (2D numpy数组)\n",
    "    ps: 补丁大小 (patch size)\n",
    "    \n",
    "    返回:\n",
    "    nI: 移除边界后的图像\n",
    "    \"\"\"\n",
    "    # 创建输入图像的副本，避免修改原始数据\n",
    "    nI = I.copy()\n",
    "    \n",
    "    # 计算要移除的边界大小\n",
    "    if ps % 2 == 0:  # mod(ps,2)==0\n",
    "        uc = ps // 2      # upperside copy\n",
    "        dc = ps // 2 - 1  # downside copy\n",
    "    else:  # mod(ps,2)==1\n",
    "        uc = ps // 2      # floor(ps/2)\n",
    "        dc = uc\n",
    "    \n",
    "    # 移除边界 - 注意顺序很重要！\n",
    "    # 先移除水平边界（左右）\n",
    "    if uc > 0:\n",
    "        nI = nI[:, uc:]           # 移除左边界 I(:,1:uc) = []\n",
    "    if dc > 0:\n",
    "        nI = nI[:, :-dc-1]          # 移除右边界 I(:,end-dc:end) = []\n",
    "    \n",
    "    # 再移除垂直边界（上下）\n",
    "    if uc > 0:\n",
    "        nI = nI[uc:, :]           # 移除上边界 I(1:uc,:) = []\n",
    "    if dc > 0:\n",
    "        nI = nI[:-dc-1, :]          # 移除下边界 I(end-dc:end,:) = []\n",
    "    \n",
    "    return nI"
   ]
  },
  {
   "cell_type": "code",
   "execution_count": null,
   "id": "2335aee5",
   "metadata": {},
   "outputs": [
    {
     "name": "stdout",
     "output_type": "stream",
     "text": [
      "输入变量形状: (788, 596)\n",
      "Mat变量形状: (788, 596)\n",
      "✓ 变量 'gray_temp1' 数值相同\n",
      "输入变量形状: (788, 596)\n",
      "Mat变量形状: (788, 596)\n",
      "✓ 变量 'Cx_gray' 数值相同\n",
      "输入变量形状: (788, 596)\n",
      "Mat变量形状: (788, 596)\n",
      "✓ 变量 'Cy_gray' 数值相同\n",
      "输入变量形状: (788, 596)\n",
      "Mat变量形状: (788, 596)\n",
      "✓ 变量 'C_gray_temp2' 数值相同\n",
      "输入变量形状: (768, 576)\n",
      "Mat变量形状: (768, 576)\n",
      "✓ 变量 'C_gray' 数值相同\n",
      "输入变量形状: (768, 576)\n",
      "Mat变量形状: (768, 576)\n",
      "✓ 变量 'R_gray' 数值相同\n",
      "输入变量形状: (768, 576)\n",
      "Mat变量形状: (768, 576)\n",
      "✓ 变量 'R_gray_temp1' 数值相同\n",
      "输入变量形状: (2, 398182)\n",
      "Mat变量形状: (398182, 1)\n",
      "形状不同：(2, 398182) vs (398182, 1)\n",
      "输入变量形状: (768, 576)\n",
      "Mat变量形状: (768, 576)\n",
      "✓ 变量 'CE_gray' 数值相同\n"
     ]
    },
    {
     "data": {
      "text/plain": [
       "True"
      ]
     },
     "execution_count": 128,
     "metadata": {},
     "output_type": "execute_result"
    }
   ],
   "source": [
    "# CE_Gray\n",
    "gray_temp1 = border_in(gray, border_s)\n",
    "\n",
    "Cx_gray = ndimage.convolve(gray_temp1, Gx, mode='constant')  # conv2(..., 'same')\n",
    "Cy_gray = ndimage.convolve(gray_temp1, Gx.T, mode='constant')  # conv2(..., Gx', 'same')\n",
    "C_gray_temp2 = np.sqrt(Cx_gray**2 + Cy_gray**2)\n",
    "C_gray = border_out(C_gray_temp2, border_s)\n",
    "R_gray = (C_gray * np.max(C_gray)) / (C_gray + (np.max(C_gray) * semisaturation))\n",
    "R_gray_temp1 = R_gray - t1\n",
    "mask = R_gray_temp1 > 0.0000001\n",
    "CE_gray[mask] = R_gray_temp1[mask]\n",
    "\n",
    "\n",
    "test(gray_temp1 , 'gray_temp1')\n",
    "test(Cx_gray , 'Cx_gray')\n",
    "test(Cy_gray , 'Cy_gray')\n",
    "test(C_gray_temp2 , 'C_gray_temp2')\n",
    "test(C_gray , 'C_gray')\n",
    "test(R_gray , 'R_gray')\n",
    "test(R_gray_temp1 , 'R_gray_temp1')\n",
    "test(CE_gray , 'CE_gray')"
   ]
  },
  {
   "cell_type": "code",
   "execution_count": 129,
   "id": "f16923a6",
   "metadata": {},
   "outputs": [
    {
     "name": "stdout",
     "output_type": "stream",
     "text": [
      "输入变量形状: (788, 596)\n",
      "Mat变量形状: (788, 596)\n",
      "✓ 变量 'by_temp1' 数值相同\n",
      "输入变量形状: (788, 596)\n",
      "Mat变量形状: (788, 596)\n",
      "✓ 变量 'Cx_by' 数值相同\n",
      "输入变量形状: (788, 596)\n",
      "Mat变量形状: (788, 596)\n",
      "✓ 变量 'Cy_by' 数值相同\n",
      "输入变量形状: (788, 596)\n",
      "Mat变量形状: (788, 596)\n",
      "✓ 变量 'C_by_temp2' 数值相同\n",
      "输入变量形状: (768, 576)\n",
      "Mat变量形状: (768, 576)\n",
      "✓ 变量 'C_by' 数值相同\n",
      "输入变量形状: (768, 576)\n",
      "Mat变量形状: (768, 576)\n",
      "✓ 变量 'R_by' 数值相同\n",
      "输入变量形状: (768, 576)\n",
      "Mat变量形状: (768, 576)\n",
      "✓ 变量 'R_by_temp1' 数值相同\n",
      "输入变量形状: (768, 576)\n",
      "Mat变量形状: (768, 576)\n",
      "✓ 变量 'CE_by' 数值相同\n"
     ]
    },
    {
     "data": {
      "text/plain": [
       "True"
      ]
     },
     "execution_count": 129,
     "metadata": {},
     "output_type": "execute_result"
    }
   ],
   "source": [
    "# CE_by\n",
    "by_temp1 = border_in(by, border_s)\n",
    "\n",
    "Cx_by = ndimage.convolve(by_temp1, Gx, mode='constant')  # conv2(..., 'same')\n",
    "Cy_by = ndimage.convolve(by_temp1, Gx.T, mode='constant')  # conv2(..., Gx', 'same')\n",
    "C_by_temp2 = np.sqrt(Cx_by**2 + Cy_by**2)\n",
    "C_by = border_out(C_by_temp2, border_s)\n",
    "R_by = (C_by * np.max(C_by)) / (C_by + (np.max(C_by) * semisaturation))\n",
    "R_by_temp1 = R_by - t2\n",
    "mask = R_by_temp1 > 0.0000001\n",
    "CE_by[mask] = R_by_temp1[mask]\n",
    "\n",
    "\n",
    "test(by_temp1 , 'by_temp1')\n",
    "test(Cx_by , 'Cx_by')\n",
    "test(Cy_by , 'Cy_by')\n",
    "test(C_by_temp2 , 'C_by_temp2')\n",
    "test(C_by , 'C_by')\n",
    "test(R_by , 'R_by')\n",
    "test(R_by_temp1 , 'R_by_temp1')\n",
    "test(CE_by , 'CE_by')"
   ]
  },
  {
   "cell_type": "code",
   "execution_count": 131,
   "id": "17ceecc7",
   "metadata": {},
   "outputs": [
    {
     "name": "stdout",
     "output_type": "stream",
     "text": [
      "输入变量形状: (788, 596)\n",
      "Mat变量形状: (788, 596)\n",
      "✓ 变量 'rg_temp1' 数值相同\n",
      "输入变量形状: (788, 596)\n",
      "Mat变量形状: (788, 596)\n",
      "✓ 变量 'Cx_rg' 数值相同\n",
      "输入变量形状: (788, 596)\n",
      "Mat变量形状: (788, 596)\n",
      "✓ 变量 'Cy_rg' 数值相同\n",
      "输入变量形状: (788, 596)\n",
      "Mat变量形状: (788, 596)\n",
      "✓ 变量 'C_rg_temp2' 数值相同\n",
      "输入变量形状: (768, 576)\n",
      "Mat变量形状: (768, 576)\n",
      "✓ 变量 'C_rg' 数值相同\n",
      "输入变量形状: (768, 576)\n",
      "Mat变量形状: (768, 576)\n",
      "✓ 变量 'R_rg' 数值相同\n",
      "输入变量形状: (768, 576)\n",
      "Mat变量形状: (768, 576)\n",
      "✓ 变量 'R_rg_temp1' 数值相同\n",
      "输入变量形状: (768, 576)\n",
      "Mat变量形状: (768, 576)\n",
      "✓ 变量 'CE_rg' 数值相同\n"
     ]
    },
    {
     "data": {
      "text/plain": [
       "True"
      ]
     },
     "execution_count": 131,
     "metadata": {},
     "output_type": "execute_result"
    }
   ],
   "source": [
    "# CE_rg\n",
    "rg_temp1 = border_in(rg, border_s)\n",
    "\n",
    "Cx_rg = ndimage.convolve(rg_temp1, Gx, mode='constant')  # conv2(..., 'same')\n",
    "Cy_rg = ndimage.convolve(rg_temp1, Gx.T, mode='constant')  # conv2(..., Gx', 'same')\n",
    "C_rg_temp2 = np.sqrt(Cx_rg**2 + Cy_rg**2)\n",
    "C_rg = border_out(C_rg_temp2, border_s)\n",
    "R_rg = (C_rg * np.max(C_rg)) / (C_rg + (np.max(C_rg) * semisaturation))\n",
    "R_rg_temp1 = R_rg - t3\n",
    "mask = R_rg_temp1 > 0.0000001\n",
    "CE_rg[mask] = R_rg_temp1[mask]\n",
    "\n",
    "\n",
    "test(rg_temp1 , 'rg_temp1')\n",
    "test(Cx_rg , 'Cx_rg')\n",
    "test(Cy_rg , 'Cy_rg')\n",
    "test(C_rg_temp2 , 'C_rg_temp2')\n",
    "test(C_rg , 'C_rg')\n",
    "test(R_rg , 'R_rg')\n",
    "test(R_rg_temp1 , 'R_rg_temp1')\n",
    "test(CE_rg , 'CE_rg')"
   ]
  }
 ],
 "metadata": {
  "kernelspec": {
   "display_name": ".venv (3.10.17)",
   "language": "python",
   "name": "python3"
  },
  "language_info": {
   "codemirror_mode": {
    "name": "ipython",
    "version": 3
   },
   "file_extension": ".py",
   "mimetype": "text/x-python",
   "name": "python",
   "nbconvert_exporter": "python",
   "pygments_lexer": "ipython3",
   "version": "3.10.17"
  }
 },
 "nbformat": 4,
 "nbformat_minor": 5
}
