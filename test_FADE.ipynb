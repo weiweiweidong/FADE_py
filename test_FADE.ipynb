{
 "cells": [
  {
   "cell_type": "code",
   "execution_count": 167,
   "id": "bc9d98e9",
   "metadata": {},
   "outputs": [],
   "source": [
    "import cv2\n",
    "import numpy as np\n",
    "import scipy.io\n",
    "from scipy import ndimage\n",
    "import os\n",
    "from PIL import Image"
   ]
  },
  {
   "cell_type": "code",
   "execution_count": 168,
   "id": "d3410648",
   "metadata": {},
   "outputs": [
    {
     "name": "stdout",
     "output_type": "stream",
     "text": [
      "- I: <class 'numpy.ndarray'>, shape: (768, 576, 3)\n",
      "- D: <class 'numpy.ndarray'>, shape: (1, 1)\n",
      "- D_map: <class 'numpy.ndarray'>, shape: (96, 72)\n",
      "- ps: <class 'numpy.ndarray'>, shape: (1, 1)\n",
      "- row: <class 'numpy.ndarray'>, shape: (1, 1)\n",
      "- col: <class 'numpy.ndarray'>, shape: (1, 1)\n",
      "- dim: <class 'numpy.ndarray'>, shape: (1, 1)\n",
      "- patch_row_num: <class 'numpy.ndarray'>, shape: (1, 1)\n",
      "- patch_col_num: <class 'numpy.ndarray'>, shape: (1, 1)\n",
      "- R: <class 'numpy.ndarray'>, shape: (768, 576)\n",
      "- G: <class 'numpy.ndarray'>, shape: (768, 576)\n",
      "- B: <class 'numpy.ndarray'>, shape: (768, 576)\n",
      "- Ig: <class 'numpy.ndarray'>, shape: (768, 576)\n",
      "- Irn: <class 'numpy.ndarray'>, shape: (768, 576)\n",
      "- Ign: <class 'numpy.ndarray'>, shape: (768, 576)\n",
      "- Ibn: <class 'numpy.ndarray'>, shape: (768, 576)\n",
      "- Id: <class 'numpy.ndarray'>, shape: (768, 576)\n",
      "- I_hsv: <class 'numpy.ndarray'>, shape: (768, 576, 3)\n",
      "- Is: <class 'numpy.ndarray'>, shape: (768, 576)\n",
      "- MSCN_window: <class 'numpy.ndarray'>, shape: (7, 7)\n",
      "- mu: <class 'numpy.ndarray'>, shape: (768, 576)\n",
      "- mu_sq: <class 'numpy.ndarray'>, shape: (768, 576)\n",
      "- sigma: <class 'numpy.ndarray'>, shape: (768, 576)\n",
      "- MSCN: <class 'numpy.ndarray'>, shape: (768, 576)\n",
      "- cv: <class 'numpy.ndarray'>, shape: (768, 576)\n",
      "- rg: <class 'numpy.ndarray'>, shape: (768, 576)\n",
      "- by: <class 'numpy.ndarray'>, shape: (768, 576)\n",
      "- MSCN_var: <class 'numpy.ndarray'>, shape: (96, 72)\n",
      "- MSCN_V_pair_col: <class 'numpy.ndarray'>, shape: (64, 6912)\n",
      "- MSCN_V_pair_col_temp1: <class 'numpy.ndarray'>, shape: (64, 6912)\n",
      "- MSCN_V_pair_col_temp2: <class 'numpy.ndarray'>, shape: (64, 6912)\n",
      "- MSCN_V_pair_L_var: <class 'numpy.ndarray'>, shape: (96, 72)\n",
      "- MSCN_V_pair_R_var: <class 'numpy.ndarray'>, shape: (96, 72)\n",
      "- Mean_sigma: <class 'numpy.ndarray'>, shape: (96, 72)\n",
      "- Mean_cv: <class 'numpy.ndarray'>, shape: (96, 72)\n",
      "- CE_gray: <class 'numpy.ndarray'>, shape: (768, 576)\n",
      "- CE_by: <class 'numpy.ndarray'>, shape: (768, 576)\n",
      "- CE_rg: <class 'numpy.ndarray'>, shape: (768, 576)\n",
      "- Mean_CE_gray: <class 'numpy.ndarray'>, shape: (96, 72)\n",
      "- Mean_CE_by: <class 'numpy.ndarray'>, shape: (96, 72)\n",
      "- Mean_CE_rg: <class 'numpy.ndarray'>, shape: (96, 72)\n",
      "- IE_temp: <class 'numpy.ndarray'>, shape: (1, 6912)\n",
      "- IE: <class 'numpy.ndarray'>, shape: (96, 72)\n",
      "- Mean_Id: <class 'numpy.ndarray'>, shape: (96, 72)\n",
      "- Mean_Is: <class 'numpy.ndarray'>, shape: (96, 72)\n",
      "- CF: <class 'numpy.ndarray'>, shape: (96, 72)\n",
      "- feat: <class 'numpy.ndarray'>, shape: (6912, 12)\n",
      "- mu_fog_param_patch: <class 'numpy.ndarray'>, shape: (6912, 12)\n",
      "- cov_fog_param_patch: <class 'numpy.ndarray'>, shape: (6912, 1)\n",
      "- feature_size: <class 'numpy.ndarray'>, shape: (1, 1)\n",
      "- mu_fogfreeparam: <class 'numpy.ndarray'>, shape: (1, 12)\n",
      "- cov_temp1: <class 'numpy.ndarray'>, shape: (1, 82944)\n",
      "- cov_temp2: <class 'numpy.ndarray'>, shape: (82944, 1)\n",
      "- cov_temp3: <class 'numpy.ndarray'>, shape: (82944, 12)\n",
      "- cov_temp4: <class 'numpy.ndarray'>, shape: (82944, 12)\n",
      "- cov_fogfreeparam: <class 'numpy.ndarray'>, shape: (12, 12)\n",
      "- distance_patch: <class 'numpy.ndarray'>, shape: (6912, 1)\n",
      "- Df: <class 'numpy.ndarray'>, shape: (1, 1)\n",
      "- Df_map: <class 'numpy.ndarray'>, shape: (96, 72)\n",
      "- mu_foggyparam: <class 'numpy.ndarray'>, shape: (1, 12)\n",
      "- cov_temp5: <class 'numpy.ndarray'>, shape: (82944, 12)\n",
      "- cov_foggyparam: <class 'numpy.ndarray'>, shape: (12, 12)\n",
      "- Dff: <class 'numpy.ndarray'>, shape: (1, 1)\n",
      "- Dff_map: <class 'numpy.ndarray'>, shape: (96, 72)\n"
     ]
    }
   ],
   "source": [
    "# 读取 mat 文件，打印一下变量名称\n",
    "\n",
    "mat_data = scipy.io.loadmat('data/FADE_key_variables.mat')\n",
    "\n",
    "for key in mat_data.keys():\n",
    "    if not key.startswith('__'):  # 过滤掉MATLAB的元数据\n",
    "        print(f\"- {key}: {type(mat_data[key])}, shape: {mat_data[key].shape if hasattr(mat_data[key], 'shape') else 'N/A'}\")"
   ]
  },
  {
   "cell_type": "code",
   "execution_count": 169,
   "id": "78dbb855",
   "metadata": {},
   "outputs": [],
   "source": [
    "def test(input_variable, variable_name, mat_file='data/FADE_key_variables.mat'):\n",
    "    \"\"\"\n",
    "    改进版测试函数：\n",
    "    - 矩阵比较时显示具体数值\n",
    "    - 标量比较时忽略(1,1)形状差异，简化输出\n",
    "    \"\"\"\n",
    "    try:\n",
    "        # 读取.mat文件\n",
    "        mat_data = scipy.io.loadmat(mat_file)\n",
    "        \n",
    "        # 检查变量是否存在\n",
    "        if variable_name not in mat_data:\n",
    "            print(f\"错误：变量 '{variable_name}' 不存在\")\n",
    "            return False\n",
    "        \n",
    "        mat_variable = mat_data[variable_name]\n",
    "        \n",
    "        # 转换为numpy数组\n",
    "        input_array = np.array(input_variable)\n",
    "        mat_array = np.array(mat_variable)\n",
    "        \n",
    "        # 判断是否为标量比较（输入是标量且mat变量是1x1数组）\n",
    "        is_scalar_comparison = (input_array.shape == () and mat_array.shape == (1, 1)) or \\\n",
    "                              (input_array.shape == (1, 1) and mat_array.shape == ())\n",
    "        \n",
    "        if is_scalar_comparison:\n",
    "            # 标量比较：简化处理\n",
    "            print(f\"比较标量值: 输入={input_variable}, Mat={(mat_array.item() if mat_array.size == 1 else mat_array)}\")\n",
    "            \n",
    "            # 统一为标量进行比较\n",
    "            input_scalar = input_array.item() if input_array.size == 1 else input_array\n",
    "            mat_scalar = mat_array.item() if mat_array.size == 1 else mat_array\n",
    "            \n",
    "            are_equal = input_scalar == mat_scalar\n",
    "        else:\n",
    "            # 矩阵比较：显示详细信息\n",
    "            print(f\"输入变量形状: {input_array.shape}\")\n",
    "            print(f\"Mat变量形状: {mat_array.shape}\")\n",
    "            # print(f\"输入变量:\\n{input_array}\")\n",
    "            # print(f\"Mat变量:\\n{mat_array}\")\n",
    "            \n",
    "            # 检查形状是否相同\n",
    "            if input_array.shape != mat_array.shape:\n",
    "                print(f\"形状不同：{input_array.shape} vs {mat_array.shape}\")\n",
    "                return False\n",
    "            \n",
    "            # 比较数值\n",
    "            if np.issubdtype(input_array.dtype, np.floating) or np.issubdtype(mat_array.dtype, np.floating):\n",
    "                are_equal = np.allclose(input_array, mat_array, rtol=1e-10, atol=1e-12)\n",
    "            else:\n",
    "                are_equal = np.array_equal(input_array, mat_array)\n",
    "        \n",
    "        # 输出结果\n",
    "        if are_equal:\n",
    "            print(f\"✓ 变量 '{variable_name}' 数值相同\")\n",
    "            return True\n",
    "        else:\n",
    "            print(f\"✗ 变量 '{variable_name}' 数值不同\")\n",
    "            if not is_scalar_comparison:\n",
    "                # 只有矩阵比较时才显示详细差异\n",
    "                if input_array.size <= 20:  # 小矩阵显示差异\n",
    "                    diff = np.abs(input_array - mat_array)\n",
    "                    print(f\"差异矩阵:\\n{diff}\")\n",
    "                else:\n",
    "                    max_diff = np.max(np.abs(input_array - mat_array))\n",
    "                    print(f\"最大差异: {max_diff}\")\n",
    "            return False\n",
    "            \n",
    "    except Exception as e:\n",
    "        print(f\"出错: {e}\")\n",
    "        return False"
   ]
  },
  {
   "cell_type": "code",
   "execution_count": null,
   "id": "ecd58ac5",
   "metadata": {},
   "outputs": [],
   "source": [
    "def test(input_variable, variable_name, mat_file='data/FADE_key_variables.mat', tolerance=1e-8):\n",
    "    \"\"\"\n",
    "    改进版测试函数：\n",
    "    - 矩阵比较时显示具体数值\n",
    "    - 标量比较时忽略(1,1)形状差异，简化输出\n",
    "    - 浮点数误差容忍度调整为1e-5\n",
    "    \n",
    "    参数:\n",
    "    input_variable: 要比较的输入变量\n",
    "    variable_name: MAT文件中的变量名\n",
    "    mat_file: MAT文件路径\n",
    "    tolerance: 浮点数比较的容忍度（默认1e-5）\n",
    "    \"\"\"\n",
    "    try:\n",
    "        # 读取.mat文件\n",
    "        mat_data = scipy.io.loadmat(mat_file)\n",
    "        \n",
    "        # 检查变量是否存在\n",
    "        if variable_name not in mat_data:\n",
    "            print(f\"错误：变量 '{variable_name}' 不存在\")\n",
    "            return False\n",
    "        \n",
    "        mat_variable = mat_data[variable_name]\n",
    "        \n",
    "        # 转换为numpy数组\n",
    "        input_array = np.array(input_variable)\n",
    "        mat_array = np.array(mat_variable)\n",
    "        \n",
    "        # 判断是否为标量比较（输入是标量且mat变量是1x1数组）\n",
    "        is_scalar_comparison = (input_array.shape == () and mat_array.shape == (1, 1)) or \\\n",
    "                              (input_array.shape == (1, 1) and mat_array.shape == ())\n",
    "        \n",
    "        if is_scalar_comparison:\n",
    "            # 标量比较：简化处理\n",
    "            input_scalar = input_array.item() if input_array.size == 1 else input_array\n",
    "            mat_scalar = mat_array.item() if mat_array.size == 1 else mat_array\n",
    "            \n",
    "            print(f\"比较标量值: 输入={input_scalar}, Mat={mat_scalar}\")\n",
    "            \n",
    "            # 浮点数比较使用容忍度\n",
    "            if isinstance(input_scalar, (float, np.floating)) or isinstance(mat_scalar, (float, np.floating)):\n",
    "                are_equal = np.isclose(input_scalar, mat_scalar, rtol=tolerance, atol=tolerance)\n",
    "                if not are_equal:\n",
    "                    diff = abs(input_scalar - mat_scalar)\n",
    "                    print(f\"差异: {diff:.2e} (容忍度: {tolerance:.1e})\")\n",
    "            else:\n",
    "                are_equal = input_scalar == mat_scalar\n",
    "        else:\n",
    "            # 矩阵比较：显示详细信息\n",
    "            print(f\"输入变量形状: {input_array.shape}\")\n",
    "            print(f\"Mat变量形状: {mat_array.shape}\")\n",
    "            \n",
    "            # 检查形状是否相同\n",
    "            if input_array.shape != mat_array.shape:\n",
    "                print(f\"形状不同：{input_array.shape} vs {mat_array.shape}\")\n",
    "                return False\n",
    "            \n",
    "            # 比较数值，使用调整后的容忍度\n",
    "            if np.issubdtype(input_array.dtype, np.floating) or np.issubdtype(mat_array.dtype, np.floating):\n",
    "                are_equal = np.allclose(input_array, mat_array, rtol=tolerance, atol=tolerance)\n",
    "            else:\n",
    "                are_equal = np.array_equal(input_array, mat_array)\n",
    "            \n",
    "            # 如果不相等，显示差异信息\n",
    "            if not are_equal and not is_scalar_comparison:\n",
    "                max_diff = np.max(np.abs(input_array - mat_array))\n",
    "                mean_diff = np.mean(np.abs(input_array - mat_array))\n",
    "                print(f\"最大差异: {max_diff:.2e}, 平均差异: {mean_diff:.2e} (容忍度: {tolerance:.1e})\")\n",
    "                \n",
    "                # 如果是小矩阵，显示详细差异\n",
    "                if input_array.size <= 20:\n",
    "                    diff = np.abs(input_array - mat_array)\n",
    "                    print(f\"差异矩阵:\\n{diff}\")\n",
    "        \n",
    "        # 输出结果\n",
    "        if are_equal:\n",
    "            print(f\"✓ 变量 '{variable_name}' 数值相同 (容忍度: {tolerance:.1e})\")\n",
    "            return True\n",
    "        else:\n",
    "            print(f\"✗ 变量 '{variable_name}' 数值不同\")\n",
    "            return False\n",
    "            \n",
    "    except Exception as e:\n",
    "        print(f\"出错: {e}\")\n",
    "        return False"
   ]
  },
  {
   "cell_type": "code",
   "execution_count": 171,
   "id": "176b7d73",
   "metadata": {},
   "outputs": [
    {
     "name": "stdout",
     "output_type": "stream",
     "text": [
      "输入变量形状: (768, 576, 3)\n",
      "Mat变量形状: (768, 576, 3)\n",
      "✓ 变量 'I' 数值相同 (容忍度: 1.0e-02)\n"
     ]
    },
    {
     "data": {
      "text/plain": [
       "True"
      ]
     },
     "execution_count": 171,
     "metadata": {},
     "output_type": "execute_result"
    }
   ],
   "source": [
    "# 导入一张图片\n",
    "\n",
    "I = cv2.imread('data/test_image1.png')\n",
    "\n",
    "image_path = 'data/test_image1.png'\n",
    "\n",
    "I = Image.open(image_path)\n",
    "I = I.convert('RGB')  # 确保是RGB格式\n",
    "I = np.array(I)\n",
    "\n",
    "# I = cv2.cvtColor(I, cv2.COLOR_BGR2RGB)\n",
    "# I = I.astype(np.float64)\n",
    "\n",
    "test(I , 'I')"
   ]
  },
  {
   "cell_type": "code",
   "execution_count": 172,
   "id": "a104ce0d",
   "metadata": {},
   "outputs": [
    {
     "name": "stdout",
     "output_type": "stream",
     "text": [
      "比较标量值: 输入=8, Mat=8\n",
      "✓ 变量 'ps' 数值相同 (容忍度: 1.0e-02)\n",
      "比较标量值: 输入=768, Mat=768\n",
      "✓ 变量 'row' 数值相同 (容忍度: 1.0e-02)\n",
      "比较标量值: 输入=576, Mat=576\n",
      "✓ 变量 'col' 数值相同 (容忍度: 1.0e-02)\n",
      "比较标量值: 输入=3, Mat=3\n",
      "✓ 变量 'dim' 数值相同 (容忍度: 1.0e-02)\n",
      "比较标量值: 输入=96, Mat=96\n",
      "✓ 变量 'patch_row_num' 数值相同 (容忍度: 1.0e-02)\n",
      "比较标量值: 输入=72, Mat=72\n",
      "✓ 变量 'patch_col_num' 数值相同 (容忍度: 1.0e-02)\n",
      "输入变量形状: (768, 576, 3)\n",
      "Mat变量形状: (768, 576, 3)\n",
      "✓ 变量 'I' 数值相同 (容忍度: 1.0e-02)\n"
     ]
    },
    {
     "data": {
      "text/plain": [
       "True"
      ]
     },
     "execution_count": 172,
     "metadata": {},
     "output_type": "execute_result"
    }
   ],
   "source": [
    "# Basic Setup\n",
    "\n",
    "ps = 8\n",
    "row, col, dim = I.shape\n",
    "patch_row_num = row // ps\n",
    "patch_col_num = col // ps\n",
    "I = I[:patch_row_num * ps, :patch_col_num * ps, :3]\n",
    "\n",
    "test(ps , 'ps')\n",
    "test(row , 'row')\n",
    "test(col , 'col')\n",
    "test(dim , 'dim')\n",
    "test(patch_row_num , 'patch_row_num')\n",
    "test(patch_col_num , 'patch_col_num')\n",
    "test(I , 'I')"
   ]
  },
  {
   "cell_type": "code",
   "execution_count": 173,
   "id": "3ba4f203",
   "metadata": {},
   "outputs": [
    {
     "name": "stdout",
     "output_type": "stream",
     "text": [
      "输入变量形状: (768, 576)\n",
      "Mat变量形状: (768, 576)\n",
      "✓ 变量 'R' 数值相同 (容忍度: 1.0e-02)\n",
      "输入变量形状: (768, 576)\n",
      "Mat变量形状: (768, 576)\n",
      "✓ 变量 'G' 数值相同 (容忍度: 1.0e-02)\n",
      "输入变量形状: (768, 576)\n",
      "Mat变量形状: (768, 576)\n",
      "✓ 变量 'B' 数值相同 (容忍度: 1.0e-02)\n",
      "输入变量形状: (768, 576)\n",
      "Mat变量形状: (768, 576)\n",
      "最大差异: 5.04e-01, 平均差异: 2.46e-01 (容忍度: 1.0e-02)\n",
      "✗ 变量 'Ig' 数值不同\n",
      "这是这里计算的 Ig: [[157.712 158.527 157.527 ... 165.303 164.118 164.716]\n",
      " [158.413 158.527 159.114 ... 165.303 166.118 165.542]\n",
      " [159.413 160.413 158.527 ... 166.118 164.232 164.357]\n",
      " ...\n",
      " [176.142 169.729 153.832 ...  65.92   64.675  61.017]\n",
      " [143.843 117.957  92.544 ...  63.137  65.963  65.305]\n",
      " [125.555  89.647  67.772 ...  63.425  57.707  55.821]]\n",
      "这是 mat 文件中存储的 Ig: [[158 159 158 ... 165 164 165]\n",
      " [158 159 159 ... 165 166 166]\n",
      " [159 160 159 ... 166 164 164]\n",
      " ...\n",
      " [176 170 154 ...  66  65  61]\n",
      " [144 118  93 ...  63  66  65]\n",
      " [126  90  68 ...  63  58  56]]\n",
      "可以发现这里的差异实际上是小数导致的。所以 Ig 的差异可以无视\n"
     ]
    }
   ],
   "source": [
    "# RGB and gray channel\n",
    "\n",
    "R = I[:, :, 0].astype(np.float64)\n",
    "G = I[:, :, 1].astype(np.float64)\n",
    "B = I[:, :, 2].astype(np.float64)\n",
    "Ig = 0.299 * R + 0.587 * G + 0.114 * B \n",
    "\n",
    "\n",
    "test(R , 'R')\n",
    "test(G , 'G')\n",
    "test(B , 'B')\n",
    "test(Ig , 'Ig')\n",
    "\n",
    "\n",
    "print(f\"这是这里计算的 Ig: {Ig}\")\n",
    "print(f\"这是 mat 文件中存储的 Ig: {mat_data['Ig']}\")\n",
    "print(\"可以发现这里的差异实际上是小数导致的。所以 Ig 的差异可以无视\")"
   ]
  },
  {
   "cell_type": "code",
   "execution_count": 174,
   "id": "effd81b7",
   "metadata": {},
   "outputs": [
    {
     "name": "stdout",
     "output_type": "stream",
     "text": [
      "输入变量形状: (768, 576)\n",
      "Mat变量形状: (768, 576)\n",
      "✓ 变量 'Id' 数值相同 (容忍度: 1.0e-02)\n"
     ]
    },
    {
     "data": {
      "text/plain": [
       "True"
      ]
     },
     "execution_count": 174,
     "metadata": {},
     "output_type": "execute_result"
    }
   ],
   "source": [
    "# Dark channel prior image: Id, pixel-wise, scaled to [0 1]\n",
    "\n",
    "Irn = R / 255.0  # 归一化红色通道\n",
    "Ign = G / 255.0  # 归一化绿色通道  \n",
    "Ibn = B / 255.0  # 归一化蓝色通道\n",
    "Id = np.minimum(np.minimum(Irn, Ign), Ibn)\n",
    "\n",
    "test(Id , \"Id\")"
   ]
  },
  {
   "cell_type": "code",
   "execution_count": 175,
   "id": "28a625aa",
   "metadata": {},
   "outputs": [
    {
     "name": "stdout",
     "output_type": "stream",
     "text": [
      "输入变量形状: (768, 576, 3)\n",
      "Mat变量形状: (768, 576, 3)\n",
      "✓ 变量 'I_hsv' 数值相同 (容忍度: 1.0e-02)\n",
      "输入变量形状: (768, 576)\n",
      "Mat变量形状: (768, 576)\n",
      "✓ 变量 'Is' 数值相同 (容忍度: 1.0e-02)\n"
     ]
    },
    {
     "data": {
      "text/plain": [
       "True"
      ]
     },
     "execution_count": 175,
     "metadata": {},
     "output_type": "execute_result"
    }
   ],
   "source": [
    "# HSV color space: saturation image: Is\n",
    "\n",
    "from matplotlib.colors import rgb_to_hsv\n",
    "\n",
    "I_normalized = I.astype(np.float32) / 255.0\n",
    "I_hsv = rgb_to_hsv(I_normalized)  # 转换为HSV\n",
    "Is = I_hsv[:, :, 1]  # 提取饱和度通道（第2个通道，索引为1）\n",
    "\n",
    "test(I_hsv , \"I_hsv\")\n",
    "test(Is , \"Is\")"
   ]
  },
  {
   "cell_type": "code",
   "execution_count": 176,
   "id": "98d06ed5",
   "metadata": {},
   "outputs": [
    {
     "name": "stdout",
     "output_type": "stream",
     "text": [
      "输入变量形状: (7, 7)\n",
      "Mat变量形状: (7, 7)\n",
      "✓ 变量 'MSCN_window' 数值相同 (容忍度: 1.0e-02)\n",
      "输入变量形状: (7, 7)\n",
      "Mat变量形状: (7, 7)\n",
      "✓ 变量 'MSCN_window' 数值相同 (容忍度: 1.0e-02)\n",
      "输入变量形状: (768, 576)\n",
      "Mat变量形状: (768, 576)\n",
      "✓ 变量 'mu' 数值相同 (容忍度: 1.0e-02)\n",
      "这是这里计算的 mu: [[158.19787702 158.29116846 158.29321074 ... 164.9974207  164.92706085\n",
      "  164.86414605]\n",
      " [158.65532247 158.71027634 158.66390445 ... 165.26426256 165.12608553\n",
      "  164.96453368]\n",
      " [159.08920858 159.10086443 158.98597427 ... 165.52333846 165.20477504\n",
      "  164.8446575 ]\n",
      " ...\n",
      " [149.70244913 139.8424462  129.68712824 ...  66.8153632   64.7838107\n",
      "   62.09313311]\n",
      " [136.77537729 124.30591825 113.60644185 ...  63.77131471  62.84358926\n",
      "   61.40697193]\n",
      " [122.22041405 107.80862342  97.92085461 ...  61.63965148  60.7382769\n",
      "   59.39657183]]\n",
      "这是 mat 文件中存储的 mu: [[158.35963449 158.51515341 158.47373035 ... 164.84029882 164.88955976\n",
      "  164.98774359]\n",
      " [158.63658088 158.80860909 158.79047103 ... 165.12449742 165.04865491\n",
      "  164.99468439]\n",
      " [158.98913288 159.15253813 159.11718261 ... 165.39704195 165.05951663\n",
      "  164.72337266]\n",
      " ...\n",
      " [149.82458236 139.97504089 129.80134678 ...  66.72209007  64.73358411\n",
      "   62.03367706]\n",
      " [136.9791097  124.50797696 113.76838678 ...  63.68023606  62.81824719\n",
      "   61.38826474]\n",
      " [122.52734387 108.06689698  98.07904701 ...  61.54813557  60.74599867\n",
      "   59.45489855]]\n",
      "输入变量形状: (768, 576)\n",
      "Mat变量形状: (768, 576)\n",
      "最大差异: 3.32e-01, 平均差异: 5.43e-02 (容忍度: 1.0e-02)\n",
      "✗ 变量 'sigma' 数值不同\n",
      "输入变量形状: (768, 576)\n",
      "Mat变量形状: (768, 576)\n",
      "✓ 变量 'cv' 数值相同 (容忍度: 1.0e-02)\n"
     ]
    },
    {
     "data": {
      "text/plain": [
       "True"
      ]
     },
     "execution_count": 176,
     "metadata": {},
     "output_type": "execute_result"
    }
   ],
   "source": [
    "# MSCN\n",
    "\n",
    "def create_gaussian_window(size=7, sigma=None):\n",
    "    \"\"\"\n",
    "    创建高斯窗口，等效于MATLAB的fspecial('gaussian', 7, 7/6)\n",
    "    \n",
    "    参数:\n",
    "    size: 窗口大小（默认7）\n",
    "    sigma: 标准差（默认为size/6）\n",
    "    \n",
    "    返回:\n",
    "    归一化的高斯窗口\n",
    "    \"\"\"\n",
    "    if sigma is None:\n",
    "        sigma = size / 6.0\n",
    "    \n",
    "    # 创建高斯核\n",
    "    # 方法1：使用numpy手动创建（与MATLAB最接近）\n",
    "    center = size // 2\n",
    "    x, y = np.mgrid[0:size, 0:size]\n",
    "    x = x - center\n",
    "    y = y - center\n",
    "    \n",
    "    # 高斯函数\n",
    "    gaussian_kernel = np.exp(-(x**2 + y**2) / (2 * sigma**2))\n",
    "    \n",
    "    # 归一化\n",
    "    gaussian_kernel = gaussian_kernel / np.sum(gaussian_kernel)\n",
    "    \n",
    "    return gaussian_kernel\n",
    "\n",
    "\n",
    "MSCN_window = create_gaussian_window(size=7, sigma=7/6)\n",
    "test(MSCN_window , \"MSCN_window\")\n",
    "\n",
    "# 计算局部均值（等效于imfilter(Ig, MSCN_window, 'replicate')）\n",
    "mu = ndimage.convolve(Ig, MSCN_window, mode='nearest')\n",
    "\n",
    "# 计算均值的平方\n",
    "mu_sq = mu * mu\n",
    "\n",
    "# 计算局部方差和标准差\n",
    "# 等效于imfilter(Ig.*Ig, MSCN_window, 'replicate') - mu_sq\n",
    "Ig_sq_filtered = ndimage.convolve(Ig * Ig, MSCN_window, mode='nearest')\n",
    "sigma = np.sqrt(np.abs(Ig_sq_filtered - mu_sq))\n",
    "\n",
    "# MSCN处理（Mean Subtracted Contrast Normalized）\n",
    "MSCN = (Ig - mu) / (sigma + 1)\n",
    "\n",
    "# 计算变异系数\n",
    "cv = sigma / mu\n",
    "\n",
    "\n",
    "\n",
    "test(MSCN_window , \"MSCN_window\")\n",
    "test(mu , \"mu\")\n",
    "\n",
    "print(f\"这是这里计算的 mu: {mu}\")\n",
    "print(f\"这是 mat 文件中存储的 mu: {mat_data['mu']}\")\n",
    "\n",
    "test(sigma , \"sigma\")\n",
    "test(cv , \"cv\")"
   ]
  },
  {
   "cell_type": "code",
   "execution_count": 177,
   "id": "112c89af",
   "metadata": {},
   "outputs": [
    {
     "name": "stdout",
     "output_type": "stream",
     "text": [
      "输入变量形状: (768, 576)\n",
      "Mat变量形状: (768, 576)\n",
      "✓ 变量 'rg' 数值相同 (容忍度: 1.0e-02)\n",
      "输入变量形状: (768, 576)\n",
      "Mat变量形状: (768, 576)\n",
      "✓ 变量 'by' 数值相同 (容忍度: 1.0e-02)\n"
     ]
    },
    {
     "data": {
      "text/plain": [
       "True"
      ]
     },
     "execution_count": 177,
     "metadata": {},
     "output_type": "execute_result"
    }
   ],
   "source": [
    "# rg and by channel\n",
    "rg = R-G;\n",
    "by = 0.5*(R+G)-B;\n",
    "\n",
    "test(rg , \"rg\")\n",
    "test(by , \"by\")"
   ]
  }
 ],
 "metadata": {
  "kernelspec": {
   "display_name": ".venv (3.10.17)",
   "language": "python",
   "name": "python3"
  },
  "language_info": {
   "codemirror_mode": {
    "name": "ipython",
    "version": 3
   },
   "file_extension": ".py",
   "mimetype": "text/x-python",
   "name": "python",
   "nbconvert_exporter": "python",
   "pygments_lexer": "ipython3",
   "version": "3.10.17"
  }
 },
 "nbformat": 4,
 "nbformat_minor": 5
}
