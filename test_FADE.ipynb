{
 "cells": [
  {
   "cell_type": "code",
   "execution_count": null,
   "id": "bc9d98e9",
   "metadata": {},
   "outputs": [],
   "source": [
    "import cv2\n",
    "import numpy as np\n",
    "import scipy.io\n",
    "from scipy import ndimage"
   ]
  },
  {
   "cell_type": "code",
   "execution_count": 7,
   "id": "78dbb855",
   "metadata": {},
   "outputs": [],
   "source": [
    "def test(input_variable, variable_name, mat_file='data/FADE_key_variables.mat'):\n",
    "    \"\"\"\n",
    "    改进版测试函数：\n",
    "    - 矩阵比较时显示具体数值\n",
    "    - 标量比较时忽略(1,1)形状差异，简化输出\n",
    "    \"\"\"\n",
    "    try:\n",
    "        # 读取.mat文件\n",
    "        mat_data = scipy.io.loadmat(mat_file)\n",
    "        \n",
    "        # 检查变量是否存在\n",
    "        if variable_name not in mat_data:\n",
    "            print(f\"错误：变量 '{variable_name}' 不存在\")\n",
    "            return False\n",
    "        \n",
    "        mat_variable = mat_data[variable_name]\n",
    "        \n",
    "        # 转换为numpy数组\n",
    "        input_array = np.array(input_variable)\n",
    "        mat_array = np.array(mat_variable)\n",
    "        \n",
    "        # 判断是否为标量比较（输入是标量且mat变量是1x1数组）\n",
    "        is_scalar_comparison = (input_array.shape == () and mat_array.shape == (1, 1)) or \\\n",
    "                              (input_array.shape == (1, 1) and mat_array.shape == ())\n",
    "        \n",
    "        if is_scalar_comparison:\n",
    "            # 标量比较：简化处理\n",
    "            print(f\"比较标量值: 输入={input_variable}, Mat={(mat_array.item() if mat_array.size == 1 else mat_array)}\")\n",
    "            \n",
    "            # 统一为标量进行比较\n",
    "            input_scalar = input_array.item() if input_array.size == 1 else input_array\n",
    "            mat_scalar = mat_array.item() if mat_array.size == 1 else mat_array\n",
    "            \n",
    "            are_equal = input_scalar == mat_scalar\n",
    "        else:\n",
    "            # 矩阵比较：显示详细信息\n",
    "            print(f\"输入变量形状: {input_array.shape}\")\n",
    "            print(f\"Mat变量形状: {mat_array.shape}\")\n",
    "            # print(f\"输入变量:\\n{input_array}\")\n",
    "            # print(f\"Mat变量:\\n{mat_array}\")\n",
    "            \n",
    "            # 检查形状是否相同\n",
    "            if input_array.shape != mat_array.shape:\n",
    "                print(f\"形状不同：{input_array.shape} vs {mat_array.shape}\")\n",
    "                return False\n",
    "            \n",
    "            # 比较数值\n",
    "            if np.issubdtype(input_array.dtype, np.floating) or np.issubdtype(mat_array.dtype, np.floating):\n",
    "                are_equal = np.allclose(input_array, mat_array, rtol=1e-10, atol=1e-12)\n",
    "            else:\n",
    "                are_equal = np.array_equal(input_array, mat_array)\n",
    "        \n",
    "        # 输出结果\n",
    "        if are_equal:\n",
    "            print(f\"✓ 变量 '{variable_name}' 数值相同\")\n",
    "            return True\n",
    "        else:\n",
    "            print(f\"✗ 变量 '{variable_name}' 数值不同\")\n",
    "            if not is_scalar_comparison:\n",
    "                # 只有矩阵比较时才显示详细差异\n",
    "                if input_array.size <= 20:  # 小矩阵显示差异\n",
    "                    diff = np.abs(input_array - mat_array)\n",
    "                    print(f\"差异矩阵:\\n{diff}\")\n",
    "                else:\n",
    "                    max_diff = np.max(np.abs(input_array - mat_array))\n",
    "                    print(f\"最大差异: {max_diff}\")\n",
    "            return False\n",
    "            \n",
    "    except Exception as e:\n",
    "        print(f\"出错: {e}\")\n",
    "        return False"
   ]
  },
  {
   "cell_type": "code",
   "execution_count": null,
   "id": "176b7d73",
   "metadata": {},
   "outputs": [
    {
     "name": "stdout",
     "output_type": "stream",
     "text": [
      "出错: name 'scipy' is not defined\n"
     ]
    },
    {
     "data": {
      "text/plain": [
       "False"
      ]
     },
     "execution_count": 8,
     "metadata": {},
     "output_type": "execute_result"
    }
   ],
   "source": [
    "I = cv2.imread('data/test_image1.png')\n",
    "\n",
    "I = cv2.cvtColor(I, cv2.COLOR_BGR2RGB)\n",
    "I = I.astype(np.float64)\n",
    "\n",
    "test(I , 'I')"
   ]
  }
 ],
 "metadata": {
  "kernelspec": {
   "display_name": ".venv (3.10.17)",
   "language": "python",
   "name": "python3"
  },
  "language_info": {
   "codemirror_mode": {
    "name": "ipython",
    "version": 3
   },
   "file_extension": ".py",
   "mimetype": "text/x-python",
   "name": "python",
   "nbconvert_exporter": "python",
   "pygments_lexer": "ipython3",
   "version": "3.10.17"
  }
 },
 "nbformat": 4,
 "nbformat_minor": 5
}
